{
 "cells": [
  {
   "cell_type": "markdown",
   "metadata": {},
   "source": [
    "# Continuous Control"
   ]
  },
  {
   "cell_type": "markdown",
   "metadata": {},
   "source": [
    "In this notebook, I used the Unity ML-Agents environment for the second project of the Deep Reinforcement Learning Nanodegree program."
   ]
  },
  {
   "cell_type": "markdown",
   "metadata": {},
   "source": [
    "## 1. Import necessary packages and start the environment"
   ]
  },
  {
   "cell_type": "markdown",
   "metadata": {},
   "source": [
    "Here we import our agent class and replay buffer class from `ddpg_agent.py`."
   ]
  },
  {
   "cell_type": "code",
   "execution_count": 1,
   "metadata": {},
   "outputs": [],
   "source": [
    "from unityagents import UnityEnvironment\n",
    "import numpy as np\n",
    "import random\n",
    "import torch\n",
    "from collections import deque\n",
    "import matplotlib.pyplot as plt\n",
    "%matplotlib inline\n",
    "from ddpg_agent import Agent\n",
    "from ddpg_agent import ReplayBuffer\n"
   ]
  },
  {
   "cell_type": "markdown",
   "metadata": {},
   "source": [
    "Next, we will start the Unity environment! **_Before running the code cell below_**, change the `file_name` parameter to match the location of the Unity environment that you downloaded.\n",
    "\n",
    "- **Mac**: `\"path/to/Reacher.app\"`\n",
    "- **Windows (x86)**: `\"path/to/Reacher_Windows_x86/Banana.exe\"`\n",
    "- **Windows (x86_64)**: `\"path/to/Reacher_Windows_x86_64/Banana.exe\"`\n",
    "- **Linux (x86)**: `\"path/to/Reacher_Linux/Reacher.x86\"`\n",
    "- **Linux (x86_64)**: `\"path/to/Reacher_Linux/Reacher.x86_64\"`\n",
    "- **Linux (x86, headless)**: `\"path/to/Reacher_Linux_NoVis/Reacher.x86\"`\n",
    "- **Linux (x86_64, headless)**: `\"path/to/Reacher_Linux_NoVis/Reacher.x86_64\"`\n",
    "\n",
    "After the environment is started, we reset the environment and get the action and state space for instantiating our training agent.\n",
    "\n",
    "In this work, the 20 agents version of the environment is used. "
   ]
  },
  {
   "cell_type": "code",
   "execution_count": 2,
   "metadata": {},
   "outputs": [
    {
     "name": "stderr",
     "output_type": "stream",
     "text": [
      "INFO:unityagents:\n",
      "'Academy' started successfully!\n",
      "Unity Academy name: Academy\n",
      "        Number of Brains: 1\n",
      "        Number of External Brains : 1\n",
      "        Lesson number : 0\n",
      "        Reset Parameters :\n",
      "\t\tgoal_speed -> 1.0\n",
      "\t\tgoal_size -> 5.0\n",
      "Unity brain name: ReacherBrain\n",
      "        Number of Visual Observations (per agent): 0\n",
      "        Vector Observation space type: continuous\n",
      "        Vector Observation space size (per agent): 33\n",
      "        Number of stacked Vector Observation: 1\n",
      "        Vector Action space type: continuous\n",
      "        Vector Action space size (per agent): 4\n",
      "        Vector Action descriptions: , , , \n"
     ]
    }
   ],
   "source": [
    "env = UnityEnvironment(file_name='Reacher_Windows_x86_64/Reacher.exe')\n",
    "# get the default brain\n",
    "brain_name = env.brain_names[0]\n",
    "brain = env.brains[brain_name]"
   ]
  },
  {
   "cell_type": "markdown",
   "metadata": {},
   "source": [
    "In this environment, a double-jointed arm can move to target locations. A reward of +0.1 is provided for each step that the agent's hand is in the goal location. Thus, the goal of your agent is to maintain its position at the target location for as many time steps as possible.\n",
    "\n",
    "The observation space consists of 33 variables corresponding to position, rotation, velocity, and angular velocities of the arm. Each action is a vector with four numbers, corresponding to torque applicable to two joints. Every entry in the action vector must be a number between -1 and 1."
   ]
  },
  {
   "cell_type": "code",
   "execution_count": 3,
   "metadata": {},
   "outputs": [
    {
     "name": "stdout",
     "output_type": "stream",
     "text": [
      "Number of agents: 20\n",
      "Size of each action: 4\n",
      "There are 20 agents. Each observes a state with length: 33\n",
      "The state for the first agent looks like: [ 0.00000000e+00 -4.00000000e+00  0.00000000e+00  1.00000000e+00\n",
      " -0.00000000e+00 -0.00000000e+00 -4.37113883e-08  0.00000000e+00\n",
      "  0.00000000e+00  0.00000000e+00  0.00000000e+00  0.00000000e+00\n",
      "  0.00000000e+00  0.00000000e+00 -1.00000000e+01  0.00000000e+00\n",
      "  1.00000000e+00 -0.00000000e+00 -0.00000000e+00 -4.37113883e-08\n",
      "  0.00000000e+00  0.00000000e+00  0.00000000e+00  0.00000000e+00\n",
      "  0.00000000e+00  0.00000000e+00  5.75471878e+00 -1.00000000e+00\n",
      "  5.55726624e+00  0.00000000e+00  1.00000000e+00  0.00000000e+00\n",
      " -1.68164849e-01]\n"
     ]
    }
   ],
   "source": [
    "# reset the environment\n",
    "env_info = env.reset(train_mode=True)[brain_name]\n",
    "\n",
    "# number of agents\n",
    "num_agents = len(env_info.agents)\n",
    "print('Number of agents:', num_agents)\n",
    "\n",
    "# size of each action\n",
    "action_size = brain.vector_action_space_size\n",
    "print('Size of each action:', action_size)\n",
    "\n",
    "# examine the state space \n",
    "states = env_info.vector_observations\n",
    "state_size = states.shape[1]\n",
    "print('There are {} agents. Each observes a state with length: {}'.format(states.shape[0], state_size))\n",
    "print('The state for the first agent looks like:', states[0])"
   ]
  },
  {
   "cell_type": "markdown",
   "metadata": {},
   "source": [
    "## 2. Instantiate agents and replay buffer\n",
    "\n",
    "All 20 agents are instantiated with a random seed of 2, the random seed can be changed for experiment. "
   ]
  },
  {
   "cell_type": "code",
   "execution_count": 4,
   "metadata": {},
   "outputs": [],
   "source": [
    "agents=[Agent(state_size=state_size, action_size=action_size, random_seed=2) for i in range(num_agents)]"
   ]
  },
  {
   "cell_type": "markdown",
   "metadata": {},
   "source": [
    "We also create a replay buffer to store the combined experience of all 20 agents"
   ]
  },
  {
   "cell_type": "code",
   "execution_count": 5,
   "metadata": {},
   "outputs": [],
   "source": [
    "BUFFER_SIZE = int(1e5)  # replay buffer size\n",
    "BATCH_SIZE = 128        # minibatch size\n",
    "GAMMA = 0.99            # discount factor\n",
    "replay_buffer=ReplayBuffer(action_size, BUFFER_SIZE, BATCH_SIZE, seed=0)"
   ]
  },
  {
   "cell_type": "markdown",
   "metadata": {},
   "source": [
    "## 3. Training the agents"
   ]
  },
  {
   "cell_type": "markdown",
   "metadata": {},
   "source": [
    "We defined a function `ddpg` to perform training of the agents. \n",
    "\n",
    "In each episode, each agent receive the state and return a action based on that agent's local actor network. Then the action is passed to the environment and the environment outputs the next state, reward and whether the episode is finished. \n",
    "\n",
    "After all 20 agents have taken a step, all 20 experiences are added to the shared replay buffer.\n",
    "\n",
    "For stability of training, the actor and critic networks are only updated every certain steps. Here we used `update_every` of 10, meaning the networks are updated every 10 steps. When the networks are updated, each agent's networks take a random sample from the replay buffer and take a learning step. \n",
    "\n",
    "During the training, we track the average score of all 20 agents for each episode. We consider the training is done once the average score of the most recent 100 episodes is higher than 30.0. We save the weight of the agent with the highest score in the last episode to `checkpoint_actor.pth` and `checkpoint_critic.pth` so that it can be loaded in the future. The average score of each episode is plotted as well for visualization."
   ]
  },
  {
   "cell_type": "code",
   "execution_count": 7,
   "metadata": {},
   "outputs": [
    {
     "name": "stderr",
     "output_type": "stream",
     "text": [
      "C:\\Users\\bchao\\AppData\\Local\\Continuum\\anaconda3\\envs\\drlnd\\lib\\site-packages\\torch\\nn\\functional.py:1320: UserWarning: nn.functional.tanh is deprecated. Use torch.tanh instead.\n",
      "  warnings.warn(\"nn.functional.tanh is deprecated. Use torch.tanh instead.\")\n",
      "D:\\udacity_DRL\\Continuos_Control\\ddpg_agent.py:104: UserWarning: torch.nn.utils.clip_grad_norm is now deprecated in favor of torch.nn.utils.clip_grad_norm_.\n",
      "  torch.nn.utils.clip_grad_norm(self.critic_local.parameters(),1)\n"
     ]
    },
    {
     "name": "stdout",
     "output_type": "stream",
     "text": [
      "Episode 5\tAverage Score: 0.58\n",
      "Episode 10\tAverage Score: 0.70\n",
      "Episode 15\tAverage Score: 0.76\n",
      "Episode 20\tAverage Score: 0.84\n",
      "Episode 25\tAverage Score: 0.86\n",
      "Episode 30\tAverage Score: 0.84\n",
      "Episode 35\tAverage Score: 0.83\n",
      "Episode 40\tAverage Score: 0.83\n",
      "Episode 45\tAverage Score: 0.84\n",
      "Episode 50\tAverage Score: 0.86\n",
      "Episode 55\tAverage Score: 0.87\n",
      "Episode 60\tAverage Score: 0.89\n",
      "Episode 65\tAverage Score: 0.95\n",
      "Episode 70\tAverage Score: 0.99\n",
      "Episode 75\tAverage Score: 1.04\n",
      "Episode 80\tAverage Score: 1.07\n",
      "Episode 85\tAverage Score: 1.11\n",
      "Episode 90\tAverage Score: 1.15\n",
      "Episode 95\tAverage Score: 1.17\n",
      "Episode 100\tAverage Score: 1.22\n",
      "Episode 105\tAverage Score: 1.29\n",
      "Episode 110\tAverage Score: 1.36\n",
      "Episode 115\tAverage Score: 1.42\n",
      "Episode 120\tAverage Score: 1.49\n",
      "Episode 125\tAverage Score: 1.54\n",
      "Episode 130\tAverage Score: 1.61\n",
      "Episode 135\tAverage Score: 1.67\n",
      "Episode 140\tAverage Score: 1.74\n",
      "Episode 145\tAverage Score: 1.80\n",
      "Episode 150\tAverage Score: 1.85\n",
      "Episode 155\tAverage Score: 1.91\n",
      "Episode 160\tAverage Score: 1.96\n",
      "Episode 165\tAverage Score: 1.96\n",
      "Episode 170\tAverage Score: 2.00\n",
      "Episode 175\tAverage Score: 2.04\n",
      "Episode 180\tAverage Score: 2.08\n",
      "Episode 185\tAverage Score: 2.12\n",
      "Episode 190\tAverage Score: 2.15\n",
      "Episode 195\tAverage Score: 2.22\n",
      "Episode 200\tAverage Score: 2.29\n",
      "Episode 205\tAverage Score: 2.35\n",
      "Episode 210\tAverage Score: 2.40\n",
      "Episode 215\tAverage Score: 2.44\n",
      "Episode 220\tAverage Score: 2.50\n",
      "Episode 225\tAverage Score: 2.57\n",
      "Episode 230\tAverage Score: 2.67\n",
      "Episode 235\tAverage Score: 2.76\n",
      "Episode 240\tAverage Score: 2.86\n",
      "Episode 245\tAverage Score: 3.00\n",
      "Episode 250\tAverage Score: 3.15\n",
      "Episode 255\tAverage Score: 3.30\n",
      "Episode 260\tAverage Score: 3.45\n",
      "Episode 265\tAverage Score: 3.63\n",
      "Episode 270\tAverage Score: 3.80\n",
      "Episode 275\tAverage Score: 3.99\n",
      "Episode 280\tAverage Score: 4.18\n",
      "Episode 285\tAverage Score: 4.42\n",
      "Episode 290\tAverage Score: 4.70\n",
      "Episode 295\tAverage Score: 4.97\n",
      "Episode 300\tAverage Score: 5.26\n",
      "Episode 305\tAverage Score: 5.57\n",
      "Episode 310\tAverage Score: 5.93\n",
      "Episode 315\tAverage Score: 6.32\n",
      "Episode 320\tAverage Score: 6.74\n",
      "Episode 325\tAverage Score: 7.15\n",
      "Episode 330\tAverage Score: 7.57\n",
      "Episode 335\tAverage Score: 8.04\n",
      "Episode 340\tAverage Score: 8.54\n",
      "Episode 345\tAverage Score: 9.06\n",
      "Episode 350\tAverage Score: 9.68\n",
      "Episode 355\tAverage Score: 10.31\n",
      "Episode 360\tAverage Score: 10.95\n",
      "Episode 365\tAverage Score: 11.64\n",
      "Episode 370\tAverage Score: 12.37\n",
      "Episode 375\tAverage Score: 13.11\n",
      "Episode 380\tAverage Score: 13.88\n",
      "Episode 385\tAverage Score: 14.66\n",
      "Episode 390\tAverage Score: 15.40\n",
      "Episode 395\tAverage Score: 16.09\n",
      "Episode 400\tAverage Score: 16.84\n",
      "Episode 405\tAverage Score: 17.55\n",
      "Episode 410\tAverage Score: 18.26\n",
      "Episode 415\tAverage Score: 18.99\n",
      "Episode 420\tAverage Score: 19.69\n",
      "Episode 425\tAverage Score: 20.42\n",
      "Episode 430\tAverage Score: 21.18\n",
      "Episode 435\tAverage Score: 21.92\n",
      "Episode 440\tAverage Score: 22.64\n",
      "Episode 445\tAverage Score: 23.34\n",
      "Episode 450\tAverage Score: 23.90\n",
      "Episode 455\tAverage Score: 24.49\n",
      "Episode 460\tAverage Score: 25.08\n",
      "Episode 465\tAverage Score: 25.66\n",
      "Episode 470\tAverage Score: 26.20\n",
      "Episode 475\tAverage Score: 26.70\n",
      "Episode 480\tAverage Score: 27.16\n",
      "Episode 485\tAverage Score: 27.60\n",
      "Episode 490\tAverage Score: 28.05\n",
      "Episode 495\tAverage Score: 28.54\n",
      "Episode 500\tAverage Score: 28.91\n",
      "Episode 505\tAverage Score: 29.33\n",
      "Episode 510\tAverage Score: 29.71\n",
      "\n",
      "Environment solved in 414 episodes!\tAverage Score: 30.02\n"
     ]
    }
   ],
   "source": [
    "env_info = env.reset(train_mode=True)[brain_name]\n",
    "def ddpg(n_episodes=2000, print_every=5,update_every=10):\n",
    "    scores_deque = deque(maxlen=100)\n",
    "    average_scores = []\n",
    "    for i_episode in range(1, n_episodes+1):\n",
    "        env_info = env.reset(train_mode=True)[brain_name]\n",
    "        states = env_info.vector_observations\n",
    "        scores = np.zeros(num_agents)\n",
    "        update=0\n",
    "        while True:\n",
    "            actions = [agents[i].act(states[i]) for i in range(num_agents)] # select an action (for each agent)\n",
    "            actions = np.clip(actions, -1, 1)                  # all actions between -1 and 1\n",
    "            env_info = env.step(actions)[brain_name]           # send all actions to tne environment\n",
    "            next_states = env_info.vector_observations         # get next state (for each agent)\n",
    "            rewards = env_info.rewards                         # get reward (for each agent)\n",
    "            dones = env_info.local_done                        # see if episode finished\n",
    "            \n",
    "            for i in range(num_agents):          \n",
    "                replay_buffer.add(states[i],actions[i],rewards[i],next_states[i],dones[i]) # Save experience / reward\n",
    "            \n",
    "            if (len(replay_buffer) > BATCH_SIZE) and (update % update_every==0):# Learn, if enough samples are available in memory\n",
    "                for i in range(num_agents):\n",
    "                    experiences = replay_buffer.sample()\n",
    "                    agents[i].learn(experiences, GAMMA)\n",
    "            scores += env_info.rewards                         # update the score (for each agent)\n",
    "            states = next_states                               # roll over states to next time step\n",
    "            update += 1\n",
    "            if np.any(dones):                                  # exit loop if episode finished\n",
    "                break\n",
    "        scores_deque.append(np.mean(scores))\n",
    "        average_scores.append(np.mean(scores))\n",
    "        if i_episode % print_every == 0:\n",
    "            print('\\rEpisode {}\\tAverage Score: {:.2f}'.format(i_episode, np.mean(scores_deque)))\n",
    "        if np.mean(scores_deque)>=30.0:\n",
    "            print('\\nEnvironment solved in {:d} episodes!\\tAverage Score: {:.2f}'.format(i_episode-100, np.mean(scores_deque)))\n",
    "            num=np.argmax(scores)\n",
    "            torch.save(agents[np.argmax(scores)].actor_local.state_dict(), 'checkpoint_actor.pth')\n",
    "            torch.save(agents[np.argmax(scores)].critic_local.state_dict(), 'checkpoint_critic.pth')\n",
    "            break\n",
    "    return average_scores\n",
    "\n",
    "scores = ddpg()"
   ]
  },
  {
   "cell_type": "markdown",
   "metadata": {},
   "source": [
    "The average score of each episode is plotted for visualization."
   ]
  },
  {
   "cell_type": "code",
   "execution_count": 8,
   "metadata": {},
   "outputs": [
    {
     "data": {
      "image/png": "[encoded data removed]",
      "text/plain": [
       "<Figure size 432x288 with 1 Axes>"
      ]
     },
     "metadata": {
      "needs_background": "light"
     },
     "output_type": "display_data"
    }
   ],
   "source": [
    "fig = plt.figure()\n",
    "ax = fig.add_subplot(111)\n",
    "plt.plot(np.arange(1, len(scores)+1), scores)\n",
    "plt.ylabel('Score')\n",
    "plt.xlabel('Episode #')\n",
    "plt.show()"
   ]
  },
  {
   "cell_type": "markdown",
   "metadata": {},
   "source": [
    "## 4. Close the environment after we are done"
   ]
  },
  {
   "cell_type": "code",
   "execution_count": 9,
   "metadata": {},
   "outputs": [],
   "source": [
    "env.close()"
   ]
  }
 ],
 "metadata": {
  "kernelspec": {
   "display_name": "drlnd",
   "language": "python",
   "name": "drlnd"
  },
  "language_info": {
   "codemirror_mode": {
    "name": "ipython",
    "version": 3
   },
   "file_extension": ".py",
   "mimetype": "text/x-python",
   "name": "python",
   "nbconvert_exporter": "python",
   "pygments_lexer": "ipython3",
   "version": "3.6.8"
  }
 },
 "nbformat": 4,
 "nbformat_minor": 2
}
