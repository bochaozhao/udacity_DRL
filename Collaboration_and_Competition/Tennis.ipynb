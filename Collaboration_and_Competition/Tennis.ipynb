{
 "cells": [
  {
   "cell_type": "markdown",
   "metadata": {},
   "source": [
    "# Collaboration and Competition\n",
    "\n",
    "---\n",
    "\n",
    "In this notebook, I used the Unity ML-Agents environment for the third project of the [Deep Reinforcement Learning Nanodegree](https://www.udacity.com/course/deep-reinforcement-learning-nanodegree--nd893) program.\n",
    "\n",
    "### 1. Import necessary packages and start the environment\n",
    "\n",
    "\n",
    "We begin by importing the necessary packages.  If the code cell below returns an error, please check that you have installed [Unity ML-Agents](https://github.com/Unity-Technologies/ml-agents/blob/master/docs/Installation.md) and [NumPy](http://www.numpy.org/).\n",
    "We also import our agent class and replay buffer class from `ddpg_agent.py`."
   ]
  },
  {
   "cell_type": "code",
   "execution_count": 1,
   "metadata": {},
   "outputs": [],
   "source": [
    "from unityagents import UnityEnvironment\n",
    "import numpy as np\n",
    "import random\n",
    "import torch\n",
    "from collections import deque\n",
    "import matplotlib.pyplot as plt\n",
    "%matplotlib inline\n",
    "from ddpg_agent import Agent\n",
    "from ddpg_agent import ReplayBuffer"
   ]
  },
  {
   "cell_type": "markdown",
   "metadata": {},
   "source": [
    "Next, we will start the environment!  **_Before running the code cell below_**, change the `file_name` parameter to match the location of the Unity environment that you downloaded.\n",
    "\n",
    "- **Mac**: `\"path/to/Tennis.app\"`\n",
    "- **Windows** (x86): `\"path/to/Tennis_Windows_x86/Tennis.exe\"`\n",
    "- **Windows** (x86_64): `\"path/to/Tennis_Windows_x86_64/Tennis.exe\"`\n",
    "- **Linux** (x86): `\"path/to/Tennis_Linux/Tennis.x86\"`\n",
    "- **Linux** (x86_64): `\"path/to/Tennis_Linux/Tennis.x86_64\"`\n",
    "- **Linux** (x86, headless): `\"path/to/Tennis_Linux_NoVis/Tennis.x86\"`\n",
    "- **Linux** (x86_64, headless): `\"path/to/Tennis_Linux_NoVis/Tennis.x86_64\"`\n",
    "\n",
    "For instance, if you are using a Mac, then you downloaded `Tennis.app`.  If this file is in the same folder as the notebook, then the line below should appear as follows:\n",
    "```\n",
    "env = UnityEnvironment(file_name=\"Tennis.app\")\n",
    "```"
   ]
  },
  {
   "cell_type": "code",
   "execution_count": 2,
   "metadata": {},
   "outputs": [
    {
     "name": "stderr",
     "output_type": "stream",
     "text": [
      "INFO:unityagents:\n",
      "'Academy' started successfully!\n",
      "Unity Academy name: Academy\n",
      "        Number of Brains: 1\n",
      "        Number of External Brains : 1\n",
      "        Lesson number : 0\n",
      "        Reset Parameters :\n",
      "\t\t\n",
      "Unity brain name: TennisBrain\n",
      "        Number of Visual Observations (per agent): 0\n",
      "        Vector Observation space type: continuous\n",
      "        Vector Observation space size (per agent): 8\n",
      "        Number of stacked Vector Observation: 3\n",
      "        Vector Action space type: continuous\n",
      "        Vector Action space size (per agent): 2\n",
      "        Vector Action descriptions: , \n"
     ]
    }
   ],
   "source": [
    "env = UnityEnvironment(file_name=\"Tennis_Windows_x86_64/Tennis.exe\")"
   ]
  },
  {
   "cell_type": "markdown",
   "metadata": {},
   "source": [
    "Environments contain **_brains_** which are responsible for deciding the actions of their associated agents. Here we check for the first brain available, and set it as the default brain we will be controlling from Python."
   ]
  },
  {
   "cell_type": "code",
   "execution_count": 3,
   "metadata": {},
   "outputs": [],
   "source": [
    "# get the default brain\n",
    "brain_name = env.brain_names[0]\n",
    "brain = env.brains[brain_name]"
   ]
  },
  {
   "cell_type": "markdown",
   "metadata": {},
   "source": [
    "### 2. Examine the State and Action Spaces\n",
    "\n",
    "In this environment, two agents control rackets to bounce a ball over a net. If an agent hits the ball over the net, it receives a reward of +0.1.  If an agent lets a ball hit the ground or hits the ball out of bounds, it receives a reward of -0.01.  Thus, the goal of each agent is to keep the ball in play.\n",
    "\n",
    "The observation space consists of 8 variables corresponding to the position and velocity of the ball and racket. Two continuous actions are available, corresponding to movement toward (or away from) the net, and jumping. \n",
    "\n",
    "Run the code cell below to print some information about the environment."
   ]
  },
  {
   "cell_type": "code",
   "execution_count": 4,
   "metadata": {},
   "outputs": [
    {
     "name": "stdout",
     "output_type": "stream",
     "text": [
      "Number of agents: 2\n",
      "Size of each action: 2\n",
      "There are 2 agents. Each observes a state with length: 24\n",
      "The state for the first agent looks like: [ 0.          0.          0.          0.          0.          0.\n",
      "  0.          0.          0.          0.          0.          0.\n",
      "  0.          0.          0.          0.         -6.65278625 -1.5\n",
      " -0.          0.          6.83172083  6.         -0.          0.        ]\n"
     ]
    }
   ],
   "source": [
    "# reset the environment\n",
    "env_info = env.reset(train_mode=True)[brain_name]\n",
    "\n",
    "# number of agents \n",
    "num_agents = len(env_info.agents)\n",
    "print('Number of agents:', num_agents)\n",
    "\n",
    "# size of each action\n",
    "action_size = brain.vector_action_space_size\n",
    "print('Size of each action:', action_size)\n",
    "\n",
    "# examine the state space \n",
    "states = env_info.vector_observations\n",
    "state_size = states.shape[1]\n",
    "print('There are {} agents. Each observes a state with length: {}'.format(states.shape[0], state_size))\n",
    "print('The state for the first agent looks like:', states[0])"
   ]
  },
  {
   "cell_type": "markdown",
   "metadata": {},
   "source": [
    "### 3. Instantiate agent and replay buffer\n",
    "\n",
    "We used one agent for both player and one shared replay buffer"
   ]
  },
  {
   "cell_type": "code",
   "execution_count": 5,
   "metadata": {},
   "outputs": [],
   "source": [
    "agent=Agent(state_size=state_size, action_size=action_size, random_seed=2)\n",
    "BUFFER_SIZE = int(1e5)  # replay buffer size\n",
    "BATCH_SIZE = 128        # minibatch size\n",
    "GAMMA = 0.99            # discount factor\n",
    "replay_buffer=ReplayBuffer(action_size, BUFFER_SIZE, BATCH_SIZE, seed=0)"
   ]
  },
  {
   "cell_type": "markdown",
   "metadata": {},
   "source": [
    "### 4. Training the agent\n",
    "\n",
    "We defined a function `ddpg` to perform training of the agent. \n",
    "\n",
    "During training, both players are represented by the same agent. At each step, each player receive the state and return a action based on the agent's local actor network. Then both actions are passed to the environment and the environment outputs the next state, reward and whether the episode is finished. After each step, the two experiences from two players are added to the shared replay buffer.\n",
    "\n",
    "For stability of training, the actor and critic networks are only updated every certain steps. Here we used `update_every` of 5, meaning the networks are updated every 5 steps. When the networks are updated, the agent takes a random sample from the replay buffer and takes a learning step. \n",
    "\n",
    "During the training, we track the higher score out of the two scores for the 2 players for each episode. We consider the training is done once the average score of the most recent 100 episodes is higher than 0.5. We save the weight of the agent to `checkpoint_actor.pth` and `checkpoint_critic.pth` so that it can be loaded in the future. The score of each episode is plotted as well for visualization."
   ]
  },
  {
   "cell_type": "code",
   "execution_count": 6,
   "metadata": {},
   "outputs": [
    {
     "name": "stderr",
     "output_type": "stream",
     "text": [
      "C:\\Users\\bchao\\AppData\\Local\\Continuum\\anaconda3\\envs\\drlnd\\lib\\site-packages\\torch\\nn\\functional.py:1320: UserWarning: nn.functional.tanh is deprecated. Use torch.tanh instead.\n",
      "  warnings.warn(\"nn.functional.tanh is deprecated. Use torch.tanh instead.\")\n",
      "D:\\udacity_DRL\\Collaboration_and_Competition\\ddpg_agent.py:104: UserWarning: torch.nn.utils.clip_grad_norm is now deprecated in favor of torch.nn.utils.clip_grad_norm_.\n",
      "  torch.nn.utils.clip_grad_norm(self.critic_local.parameters(),1)\n"
     ]
    },
    {
     "name": "stdout",
     "output_type": "stream",
     "text": [
      "Episode 20\tScore: 0.01\n",
      "Episode 40\tScore: 0.01\n",
      "Episode 60\tScore: 0.00\n",
      "Episode 80\tScore: 0.01\n",
      "Episode 100\tScore: 0.01\n",
      "Episode 120\tScore: 0.01\n",
      "Episode 140\tScore: 0.01\n",
      "Episode 160\tScore: 0.01\n",
      "Episode 180\tScore: 0.01\n",
      "Episode 200\tScore: 0.00\n",
      "Episode 220\tScore: 0.00\n",
      "Episode 240\tScore: 0.00\n",
      "Episode 260\tScore: 0.00\n",
      "Episode 280\tScore: 0.00\n",
      "Episode 300\tScore: 0.00\n",
      "Episode 320\tScore: 0.00\n",
      "Episode 340\tScore: 0.00\n",
      "Episode 360\tScore: 0.00\n",
      "Episode 380\tScore: 0.00\n",
      "Episode 400\tScore: 0.00\n",
      "Episode 420\tScore: 0.00\n",
      "Episode 440\tScore: 0.00\n",
      "Episode 460\tScore: 0.00\n",
      "Episode 480\tScore: 0.00\n",
      "Episode 500\tScore: 0.00\n",
      "Episode 520\tScore: 0.00\n",
      "Episode 540\tScore: 0.00\n",
      "Episode 560\tScore: 0.00\n",
      "Episode 580\tScore: 0.00\n",
      "Episode 600\tScore: 0.00\n",
      "Episode 620\tScore: 0.00\n",
      "Episode 640\tScore: 0.00\n",
      "Episode 660\tScore: 0.00\n",
      "Episode 680\tScore: 0.00\n",
      "Episode 700\tScore: 0.00\n",
      "Episode 720\tScore: 0.00\n",
      "Episode 740\tScore: 0.00\n",
      "Episode 760\tScore: 0.00\n",
      "Episode 780\tScore: 0.00\n",
      "Episode 800\tScore: 0.00\n",
      "Episode 820\tScore: 0.00\n",
      "Episode 840\tScore: 0.00\n",
      "Episode 860\tScore: 0.00\n",
      "Episode 880\tScore: 0.00\n",
      "Episode 900\tScore: 0.01\n",
      "Episode 920\tScore: 0.02\n",
      "Episode 940\tScore: 0.03\n",
      "Episode 960\tScore: 0.05\n",
      "Episode 980\tScore: 0.06\n",
      "Episode 1000\tScore: 0.06\n",
      "Episode 1020\tScore: 0.07\n",
      "Episode 1040\tScore: 0.06\n",
      "Episode 1060\tScore: 0.06\n",
      "Episode 1080\tScore: 0.05\n",
      "Episode 1100\tScore: 0.05\n",
      "Episode 1120\tScore: 0.05\n",
      "Episode 1140\tScore: 0.05\n",
      "Episode 1160\tScore: 0.05\n",
      "Episode 1180\tScore: 0.06\n",
      "Episode 1200\tScore: 0.07\n",
      "Episode 1220\tScore: 0.06\n",
      "Episode 1240\tScore: 0.06\n",
      "Episode 1260\tScore: 0.06\n",
      "Episode 1280\tScore: 0.08\n",
      "Episode 1300\tScore: 0.08\n",
      "Episode 1320\tScore: 0.10\n",
      "Episode 1340\tScore: 0.12\n",
      "Episode 1360\tScore: 0.12\n",
      "Episode 1380\tScore: 0.12\n",
      "Episode 1400\tScore: 0.12\n",
      "Episode 1420\tScore: 0.12\n",
      "Episode 1440\tScore: 0.13\n",
      "Episode 1460\tScore: 0.18\n",
      "Episode 1480\tScore: 0.20\n",
      "Episode 1500\tScore: 0.20\n",
      "Episode 1520\tScore: 0.21\n",
      "Episode 1540\tScore: 0.20\n",
      "Episode 1560\tScore: 0.14\n",
      "Episode 1580\tScore: 0.11\n",
      "Episode 1600\tScore: 0.11\n",
      "Episode 1620\tScore: 0.10\n",
      "Episode 1640\tScore: 0.10\n",
      "Episode 1660\tScore: 0.10\n",
      "Episode 1680\tScore: 0.11\n",
      "Episode 1700\tScore: 0.11\n",
      "Episode 1720\tScore: 0.12\n",
      "Episode 1740\tScore: 0.11\n",
      "Episode 1760\tScore: 0.11\n",
      "Episode 1780\tScore: 0.11\n",
      "Episode 1800\tScore: 0.11\n",
      "Episode 1820\tScore: 0.11\n",
      "Episode 1840\tScore: 0.12\n",
      "Episode 1860\tScore: 0.13\n",
      "Episode 1880\tScore: 0.12\n",
      "Episode 1900\tScore: 0.14\n",
      "Episode 1920\tScore: 0.23\n",
      "Episode 1940\tScore: 0.29\n",
      "Episode 1960\tScore: 0.34\n",
      "Episode 1980\tScore: 0.39\n",
      "Episode 2000\tScore: 0.44\n",
      "Episode 2020\tScore: 0.42\n",
      "Episode 2040\tScore: 0.39\n",
      "Episode 2060\tScore: 0.41\n",
      "Episode 2080\tScore: 0.47\n",
      "Episode 2100\tScore: 0.47\n",
      "Episode 2120\tScore: 0.42\n",
      "Episode 2140\tScore: 0.39\n",
      "Episode 2160\tScore: 0.33\n",
      "Episode 2180\tScore: 0.23\n",
      "Episode 2200\tScore: 0.17\n",
      "Episode 2220\tScore: 0.16\n",
      "Episode 2240\tScore: 0.15\n",
      "Episode 2260\tScore: 0.16\n",
      "Episode 2280\tScore: 0.15\n",
      "Episode 2300\tScore: 0.16\n",
      "Episode 2320\tScore: 0.25\n",
      "Episode 2340\tScore: 0.31\n",
      "Episode 2360\tScore: 0.39\n",
      "Episode 2380\tScore: 0.41\n",
      "Episode 2400\tScore: 0.49\n",
      "\n",
      "Environment solved in 2303 episodes!\tAverage Score: 0.51\n"
     ]
    }
   ],
   "source": [
    "env_info = env.reset(train_mode=True)[brain_name]\n",
    "def ddpg(n_episodes=4000, print_every=20,update_every=5):\n",
    "    scores_deque = deque(maxlen=100)\n",
    "    scores_list = []\n",
    "    update=0\n",
    "    for i_episode in range(1, n_episodes+1):\n",
    "        env_info = env.reset(train_mode=True)[brain_name]\n",
    "        states = env_info.vector_observations\n",
    "        scores = np.zeros(num_agents)\n",
    "        while True:\n",
    "            actions = [agent.act(states[i]) for i in range(num_agents)] # select an action (for each agent)\n",
    "            actions = np.clip(actions, -1, 1)                  # all actions between -1 and 1\n",
    "            env_info = env.step(actions)[brain_name]           # send all actions to tne environment\n",
    "            next_states = env_info.vector_observations         # get next state (for each agent)\n",
    "            rewards = env_info.rewards                         # get reward (for each agent)\n",
    "            dones = env_info.local_done                        # see if episode finished\n",
    "            \n",
    "            for i in range(num_agents):          \n",
    "                replay_buffer.add(states[i],actions[i],rewards[i],next_states[i],dones[i]) # Save experience / reward\n",
    "            \n",
    "            if (len(replay_buffer) > BATCH_SIZE) and (update % update_every==0):# Learn, if enough samples are available in memory\n",
    "                for i in range(num_agents):\n",
    "                    experiences = replay_buffer.sample()\n",
    "                    agent.learn(experiences, GAMMA)\n",
    "            scores += env_info.rewards                         # update the score (for each agent)\n",
    "            states = next_states                               # roll over states to next time step\n",
    "            update += 1\n",
    "            if np.any(dones):                                  # exit loop if episode finished\n",
    "                break\n",
    "        scores_deque.append(np.max(scores))\n",
    "        scores_list.append(np.max(scores))\n",
    "        if i_episode % print_every == 0:\n",
    "            print('\\rEpisode {}\\tScore: {:.2f}'.format(i_episode, np.mean(scores_deque)))\n",
    "        if np.mean(scores_deque)>=0.5:\n",
    "            print('\\nEnvironment solved in {:d} episodes!\\tAverage Score: {:.2f}'.format(i_episode-100, np.mean(scores_deque)))\n",
    "            torch.save(agent.actor_local.state_dict(), 'checkpoint_actor.pth')\n",
    "            torch.save(agent.critic_local.state_dict(), 'checkpoint_critic.pth')\n",
    "            break\n",
    "    return scores_list\n",
    "\n",
    "scores_list = ddpg()"
   ]
  },
  {
   "cell_type": "markdown",
   "metadata": {},
   "source": [
    "The score of each episode is plotted for visualization."
   ]
  },
  {
   "cell_type": "code",
   "execution_count": 7,
   "metadata": {},
   "outputs": [
    {
     "data": {
      "image/png": "[encoded data removed]",
      "text/plain": [
       "<Figure size 432x288 with 1 Axes>"
      ]
     },
     "metadata": {
      "needs_background": "light"
     },
     "output_type": "display_data"
    }
   ],
   "source": [
    "fig = plt.figure()\n",
    "ax = fig.add_subplot(111)\n",
    "plt.plot(np.arange(1, len(scores_list)+1), scores_list)\n",
    "plt.ylabel('Score')\n",
    "plt.xlabel('Episode #')\n",
    "plt.show()"
   ]
  },
  {
   "cell_type": "markdown",
   "metadata": {},
   "source": [
    "When finished, we close the environment."
   ]
  },
  {
   "cell_type": "code",
   "execution_count": 7,
   "metadata": {},
   "outputs": [],
   "source": [
    "env.close()"
   ]
  }
 ],
 "metadata": {
  "kernelspec": {
   "display_name": "drlnd",
   "language": "python",
   "name": "drlnd"
  },
  "language_info": {
   "codemirror_mode": {
    "name": "ipython",
    "version": 3
   },
   "file_extension": ".py",
   "mimetype": "text/x-python",
   "name": "python",
   "nbconvert_exporter": "python",
   "pygments_lexer": "ipython3",
   "version": "3.6.8"
  }
 },
 "nbformat": 4,
 "nbformat_minor": 2
}
